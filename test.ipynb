{
 "cells": [
  {
   "cell_type": "code",
   "execution_count": 4,
   "metadata": {},
   "outputs": [],
   "source": [
    "from hopfield import HopfieldNetwork\n",
    "\n",
    "hn = HopfieldNetwork([16,16])\n",
    "hn.hebbian_train(input_imgs_dir=\"./pbm_images/\")\n",
    "\n",
    "p_pbm = hn.pbm_to_vec(\"./pbm_images/caps_p.pbm\")\n",
    "corrupted_p = hn.corrupt_pbm_vec(p_pbm, prob=0.4)\n",
    "cropped_p = hn.crop_pbm_vec(p_pbm, 10, [3,3], True)"
   ]
  },
  {
   "cell_type": "code",
   "execution_count": 5,
   "metadata": {},
   "outputs": [
    {
     "name": "stdout",
     "output_type": "stream",
     "text": [
      "Input:\n",
      "━━━━━━━━━━━━━━━━━━━━━━━━━━━━━━━━\n",
      "                                \n",
      "                                \n",
      "                                \n",
      "      ████            ████      \n",
      "      ████            ████      \n",
      "      ████          ████        \n",
      "      ████████████████          \n",
      "      ████                      \n",
      "      ████                      \n",
      "      ████                      \n",
      "      ████                      \n",
      "      ████                      \n",
      "      ████                      \n",
      "                                \n",
      "                                \n",
      "                                \n",
      "━━━━━━━━━━━━━━━━━━━━━━━━━━━━━━━━\n",
      "State 1\n",
      "━━━━━━━━━━━━━━━━━━━━━━━━━━━━━━━━\n",
      "        ████████████████        \n",
      "      ████          ████        \n",
      "      ████            ████      \n",
      "      ████            ████      \n",
      "      ████            ████      \n",
      "      ████          ████        \n",
      "      ████████████████          \n",
      "      ████                      \n",
      "      ████                      \n",
      "      ████                      \n",
      "      ████                      \n",
      "      ████                      \n",
      "      ████                      \n",
      "      ████                      \n",
      "      ████                      \n",
      "      ████                      \n",
      "━━━━━━━━━━━━━━━━━━━━━━━━━━━━━━━━\n",
      "Similarity = 1.0\n"
     ]
    }
   ],
   "source": [
    "p_infer_async = hn.inference_async(input_img=cropped_p, visualise=True)\n",
    "print(f\"Similarity = {hn.get_similarity(p_pbm, p_infer_async)}\")"
   ]
  },
  {
   "cell_type": "code",
   "execution_count": 6,
   "metadata": {},
   "outputs": [
    {
     "name": "stdout",
     "output_type": "stream",
     "text": [
      "Input:\n",
      "━━━━━━━━━━━━━━━━━━━━━━━━━━━━━━━━\n",
      "████  ██  ████████  ████████    \n",
      "  ██      ██    ██    ██  ██    \n",
      "    ████        ██  ██  ████    \n",
      "██      ██    ██        ██    ██\n",
      "██      ████████    ██████      \n",
      "  ████████  ████  ██    ████    \n",
      "      ██  ██    ██████        ██\n",
      "      ██  ██  ████      ████    \n",
      "██  ██  ██    ██  ████  ██  ██  \n",
      "      ██████  ██              ██\n",
      "    ██    ██████████  ████████  \n",
      "        ██  ██    ██████  ██  ██\n",
      "    ██  ██████        ██████    \n",
      "██  ████      ██    ████        \n",
      "██████    ████    ██  ████      \n",
      "    ██████    ██    ████        \n",
      "━━━━━━━━━━━━━━━━━━━━━━━━━━━━━━━━\n",
      "State 1\n",
      "━━━━━━━━━━━━━━━━━━━━━━━━━━━━━━━━\n",
      "        ████████████████        \n",
      "      ████          ████        \n",
      "      ████            ████      \n",
      "      ████            ████      \n",
      "      ████            ████      \n",
      "      ████          ████        \n",
      "      ████████████████          \n",
      "      ████                      \n",
      "      ████                      \n",
      "      ████                      \n",
      "      ████                      \n",
      "      ████                      \n",
      "      ████                      \n",
      "      ████                      \n",
      "      ████                      \n",
      "      ████                      \n",
      "━━━━━━━━━━━━━━━━━━━━━━━━━━━━━━━━\n",
      "Similarity = 1.0\n"
     ]
    }
   ],
   "source": [
    "p_infer_sync = hn.inference_async(input_img=corrupted_p, visualise=True)\n",
    "print(f\"Similarity = {hn.get_similarity(p_pbm, p_infer_sync)}\")"
   ]
  }
 ],
 "metadata": {
  "kernelspec": {
   "display_name": "ml",
   "language": "python",
   "name": "python3"
  },
  "language_info": {
   "codemirror_mode": {
    "name": "ipython",
    "version": 3
   },
   "file_extension": ".py",
   "mimetype": "text/x-python",
   "name": "python",
   "nbconvert_exporter": "python",
   "pygments_lexer": "ipython3",
   "version": "3.12.8"
  }
 },
 "nbformat": 4,
 "nbformat_minor": 2
}
